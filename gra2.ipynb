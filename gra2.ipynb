{
 "cells": [
  {
   "cell_type": "code",
   "execution_count": 4,
   "id": "33e5ab87-92fe-4d95-af95-5079eb2b886f",
   "metadata": {
    "tags": []
   },
   "outputs": [],
   "source": [
    "# Importing standard Qiskit libraries\n",
    "from qiskit import QuantumCircuit, transpile\n",
    "from qiskit.visualization import *\n",
    "\n",
    "\n",
    "# Loading your IBM Quantum account(s)\n",
    "\n",
    "\n",
    "# Invoke a primitive. For more details see https://docs.quantum.ibm.com/run/primitives\n",
    "# result = Sampler().run(circuits).result()\n"
   ]
  },
  {
   "cell_type": "code",
   "execution_count": 5,
   "id": "1c047759-421a-43d7-b0e3-ae259324eb49",
   "metadata": {
    "tags": []
   },
   "outputs": [
    {
     "name": "stdout",
     "output_type": "stream",
     "text": [
      "0.46.0\n"
     ]
    }
   ],
   "source": [
    "import qiskit\n",
    "print(qiskit.__version__)\n"
   ]
  },
  {
   "cell_type": "code",
   "execution_count": 6,
   "id": "ac25ee8e-6fa0-4f32-a6a2-3556c1497639",
   "metadata": {
    "tags": []
   },
   "outputs": [],
   "source": [
    "from qiskit import QuantumCircuit\n",
    "from qiskit.visualization import circuit_drawer\n",
    "\n",
    "import numpy as np\n",
    "from numpy.random import randint"
   ]
  },
  {
   "cell_type": "code",
   "execution_count": 8,
   "id": "63a4f19b-5867-4cc6-ac7e-52ac5733daf6",
   "metadata": {
    "tags": []
   },
   "outputs": [],
   "source": [
    "def encode_message(bits, bases):\n",
    "    message = []\n",
    "    for i in range(n):\n",
    "        qc = QuantumCircuit(1,1)\n",
    "        if bases[i] == 0:    # Z-basis encoding\n",
    "            if bits[i] == 0:\n",
    "                pass \n",
    "            else:\n",
    "                qc.x(0)\n",
    "        else:                # X-basis encoding\n",
    "            if bits[i] == 0:\n",
    "                qc.h(0)\n",
    "            else:\n",
    "                qc.x(0)\n",
    "                qc.h(0)\n",
    "        qc.barrier()\n",
    "        message.append(qc)\n",
    "    return message, qc"
   ]
  },
  {
   "cell_type": "code",
   "execution_count": 20,
   "id": "90bc1adb-5387-4d2c-a038-2aa11e73683f",
   "metadata": {
    "tags": []
   },
   "outputs": [
    {
     "name": "stdout",
     "output_type": "stream",
     "text": [
      "         ┌───┐ ░ ┌─┐                           \n",
      "    q_0: ┤ H ├─░─┤M├───────────────────────────\n",
      "         ├───┤ ░ └╥┘┌─┐                        \n",
      "    q_1: ┤ H ├─░──╫─┤M├────────────────────────\n",
      "         ├───┤ ░  ║ └╥┘┌─┐                     \n",
      "    q_2: ┤ H ├─░──╫──╫─┤M├─────────────────────\n",
      "         ├───┤ ░  ║  ║ └╥┘┌─┐                  \n",
      "    q_3: ┤ H ├─░──╫──╫──╫─┤M├──────────────────\n",
      "         ├───┤ ░  ║  ║  ║ └╥┘┌─┐               \n",
      "    q_4: ┤ H ├─░──╫──╫──╫──╫─┤M├───────────────\n",
      "         ├───┤ ░  ║  ║  ║  ║ └╥┘┌─┐            \n",
      "    q_5: ┤ H ├─░──╫──╫──╫──╫──╫─┤M├────────────\n",
      "         ├───┤ ░  ║  ║  ║  ║  ║ └╥┘┌─┐         \n",
      "    q_6: ┤ H ├─░──╫──╫──╫──╫──╫──╫─┤M├─────────\n",
      "         ├───┤ ░  ║  ║  ║  ║  ║  ║ └╥┘┌─┐      \n",
      "    q_7: ┤ H ├─░──╫──╫──╫──╫──╫──╫──╫─┤M├──────\n",
      "         ├───┤ ░  ║  ║  ║  ║  ║  ║  ║ └╥┘┌─┐   \n",
      "    q_8: ┤ H ├─░──╫──╫──╫──╫──╫──╫──╫──╫─┤M├───\n",
      "         ├───┤ ░  ║  ║  ║  ║  ║  ║  ║  ║ └╥┘┌─┐\n",
      "    q_9: ┤ H ├─░──╫──╫──╫──╫──╫──╫──╫──╫──╫─┤M├\n",
      "         └───┘ ░  ║  ║  ║  ║  ║  ║  ║  ║  ║ └╥┘\n",
      "meas: 10/═════════╩══╩══╩══╩══╩══╩══╩══╩══╩══╩═\n",
      "                  0  1  2  3  4  5  6  7  8  9 \n"
     ]
    }
   ],
   "source": [
    "from qiskit import QuantumCircuit\n",
    "from numpy.random import randint\n",
    "\n",
    "n = 10\n",
    "qc_visual = QuantumCircuit(n)\n",
    "\n",
    "qc_visual.h(range(n))\n",
    "qc_visual.measure_all()\n",
    "\n",
    "# Visualize the circuit\n",
    "print(qc_visual.draw())"
   ]
  },
  {
   "cell_type": "code",
   "execution_count": 21,
   "id": "a27bba91-7e3c-42a4-9090-f3a8dfafea30",
   "metadata": {
    "tags": []
   },
   "outputs": [],
   "source": [
    "def measure_message(message, bases):\n",
    "    # backend = Aer.get_backend('aer_simulator')\n",
    "    measurements = []\n",
    "    for q in range(n):\n",
    "        if bases[q] == 0: # measuring in Z-basis\n",
    "            message[q].measure(0,0)\n",
    "        if bases[q] == 1: # measuring in X-basis\n",
    "            message[q].h(0)\n",
    "            message[q].measure(0,0)\n",
    "        aer_sim = Aer.get_backend('aer_simulator')\n",
    "        result = aer_sim.run(message[q], shots=1, memory=True).result()\n",
    "        measured_bit = int(result.get_memory()[0])\n",
    "        measurements.append(measured_bit)\n",
    "    return measurements"
   ]
  },
  {
   "cell_type": "code",
   "execution_count": 22,
   "id": "b800c0ba-bd6f-4a68-a4f0-ad98bcc726ec",
   "metadata": {
    "tags": []
   },
   "outputs": [],
   "source": [
    "def remove_garbage(a_bases, b_bases, bits):\n",
    "    good_bits = []\n",
    "    for q in range(n):\n",
    "        if a_bases[q] == b_bases[q]:\n",
    "            good_bits.append(bits[q])\n",
    "    return good_bits"
   ]
  },
  {
   "cell_type": "code",
   "execution_count": 23,
   "id": "f90dbd16-fc22-469d-a601-943409eabaeb",
   "metadata": {
    "tags": []
   },
   "outputs": [],
   "source": [
    "def sample_bits(bits, selection):\n",
    "    sample = []\n",
    "    for i in selection:\n",
    "        # use np.mod to make sure that sampled bits always in list range\n",
    "        i = np.mod(i, len(bits))\n",
    "        # pop(i) removes the element at index 'i', from the main list as well\n",
    "        sample.append(bits.pop(i))\n",
    "    return sample"
   ]
  },
  {
   "cell_type": "code",
   "execution_count": 24,
   "id": "e6b1d63c-b27a-43cb-96b2-82f14c1f527b",
   "metadata": {
    "tags": []
   },
   "outputs": [],
   "source": [
    "n = 50\n",
    "\n",
    "# Step 1: Set the qubit sequence to be transmitted, and the basis sequence to be used by Alice\n",
    "alice_bits = randint(2, size=n)\n",
    "alice_bases = randint(2, size=n)\n",
    "\n",
    "# Step 2: Encode the message from Alice's side using the quantum circuit defined before\n",
    "message = encode_message(alice_bits, alice_bases)[0]"
   ]
  },
  {
   "cell_type": "code",
   "execution_count": 25,
   "id": "adae2da5-b1d0-4d88-a9b5-f5be68923bf7",
   "metadata": {
    "tags": []
   },
   "outputs": [
    {
     "name": "stdout",
     "output_type": "stream",
     "text": [
      "Message:\n",
      "     ┌───┐ ░ \n",
      "  q: ┤ H ├─░─\n",
      "     └───┘ ░ \n",
      "c: 1/════════\n",
      "             \n",
      "Message:\n",
      "      ░ \n",
      "  q: ─░─\n",
      "      ░ \n",
      "c: 1/═══\n",
      "        \n",
      "Message:\n",
      "     ┌───┐ ░ \n",
      "  q: ┤ X ├─░─\n",
      "     └───┘ ░ \n",
      "c: 1/════════\n",
      "             \n",
      "Message:\n",
      "     ┌───┐ ░ \n",
      "  q: ┤ H ├─░─\n",
      "     └───┘ ░ \n",
      "c: 1/════════\n",
      "             \n"
     ]
    }
   ],
   "source": [
    "print(f'Message:\\n{message[11]}')\n",
    "print(f'Message:\\n{message[0]}')\n",
    "print(f'Message:\\n{message[4]}')\n",
    "print(f'Message:\\n{message[7]}')"
   ]
  },
  {
   "cell_type": "code",
   "execution_count": 26,
   "id": "c899a735-7b8d-456a-a889-6f7b5b0a59b8",
   "metadata": {
    "tags": []
   },
   "outputs": [
    {
     "name": "stdout",
     "output_type": "stream",
     "text": [
      "Eve's bases:\n",
      "[0 1 1 0 1 0 1 1 1 0 1 0 1 0 0 0 1 1 0 1 1 0 1 1 0 0 0 0 1 0 1 1 1 0 1 0 1\n",
      " 0 0 0 1 0 0 1 1 1 1 1 0 0]\n",
      "Intercepted message:\n",
      "[<qiskit.circuit.quantumcircuit.QuantumCircuit object at 0x00000144BCF64990>, 1, 1, <qiskit.circuit.quantumcircuit.QuantumCircuit object at 0x00000144BB0A5450>, 1, <qiskit.circuit.quantumcircuit.QuantumCircuit object at 0x00000144BCF6CC50>, 1, 1, 1, <qiskit.circuit.quantumcircuit.QuantumCircuit object at 0x00000144BCF6F910>, 1, <qiskit.circuit.quantumcircuit.QuantumCircuit object at 0x00000144BD115110>, 1, <qiskit.circuit.quantumcircuit.QuantumCircuit object at 0x00000144BD116D10>, <qiskit.circuit.quantumcircuit.QuantumCircuit object at 0x00000144BD114590>, <qiskit.circuit.quantumcircuit.QuantumCircuit object at 0x00000144BD1695D0>, 1, 1, <qiskit.circuit.quantumcircuit.QuantumCircuit object at 0x00000144BD168F10>, 1, 1, <qiskit.circuit.quantumcircuit.QuantumCircuit object at 0x00000144BD169850>, 1, 1, <qiskit.circuit.quantumcircuit.QuantumCircuit object at 0x00000144BD169FD0>, <qiskit.circuit.quantumcircuit.QuantumCircuit object at 0x00000144BB115F10>, <qiskit.circuit.quantumcircuit.QuantumCircuit object at 0x00000144BB115950>, <qiskit.circuit.quantumcircuit.QuantumCircuit object at 0x00000144BD130690>, 1, <qiskit.circuit.quantumcircuit.QuantumCircuit object at 0x00000144BD131D90>, 1, 1, 1, <qiskit.circuit.quantumcircuit.QuantumCircuit object at 0x00000144BD1582D0>, 1, <qiskit.circuit.quantumcircuit.QuantumCircuit object at 0x00000144BB1CF190>, 1, <qiskit.circuit.quantumcircuit.QuantumCircuit object at 0x00000144BD059ED0>, <qiskit.circuit.quantumcircuit.QuantumCircuit object at 0x00000144BD05A210>, <qiskit.circuit.quantumcircuit.QuantumCircuit object at 0x00000144BD059750>, 1, <qiskit.circuit.quantumcircuit.QuantumCircuit object at 0x00000144BB348290>, <qiskit.circuit.quantumcircuit.QuantumCircuit object at 0x00000144BB1FE290>, 1, 1, 1, 1, 1, <qiskit.circuit.quantumcircuit.QuantumCircuit object at 0x00000144BD04AF90>, <qiskit.circuit.quantumcircuit.QuantumCircuit object at 0x00000144BD158250>]\n"
     ]
    }
   ],
   "source": [
    "# Step 2/3: Interception by Eve\n",
    "import numpy as np  # Import NumPy module\n",
    "\n",
    "# Generate random bases for Eve\n",
    "eve_bases = np.random.randint(2, size=len(message))\n",
    "\n",
    "# Print the bases generated for Eve\n",
    "print(f\"Eve's bases:\\n{eve_bases}\")\n",
    "\n",
    "# Define the function to measure the intercepted message\n",
    "def measure_message(message, bases):\n",
    "    # Initialize a list to store the measured bits\n",
    "    measured_bits = []\n",
    "    \n",
    "    # Measure each bit in the message according to the basis\n",
    "    for bit, basis in zip(message, bases):\n",
    "        if basis == 0:  # Measure in the Z basis\n",
    "            measured_bits.append(bit)\n",
    "        elif basis == 1:  # Measure in the X basis\n",
    "            measured_bits.append(0 if bit == 0 else 1)  # Flip the bit if the basis is X\n",
    "    \n",
    "    return measured_bits\n",
    "\n",
    "# Measure the intercepted message\n",
    "intercepted_message = measure_message(message, eve_bases)\n",
    "\n",
    "# Print the intercepted message\n",
    "print(f'Intercepted message:\\n{intercepted_message}')\n"
   ]
  },
  {
   "cell_type": "code",
   "execution_count": 27,
   "id": "4f2f75b9-c054-4fc8-a185-e2e39c513eca",
   "metadata": {
    "tags": []
   },
   "outputs": [],
   "source": [
    "\n",
    "# Step 3: Message received and measured by Bob using his basis sequence\n",
    "bob_bases = randint(2, size=n)\n",
    "bob_results = measure_message(message, bob_bases)"
   ]
  },
  {
   "cell_type": "code",
   "execution_count": 28,
   "id": "e3686adc-e149-4ee2-877d-62bb18ea861d",
   "metadata": {
    "tags": []
   },
   "outputs": [
    {
     "name": "stdout",
     "output_type": "stream",
     "text": [
      "Verification bits selected from key: [ 2  8 17 28 45 34 21 46 18 19]\n"
     ]
    }
   ],
   "source": [
    "# Step 4: Discarding qubits with mismatched basis measurements\n",
    "bob_key = remove_garbage(alice_bases, bob_bases, bob_results)\n",
    "alice_key = remove_garbage(alice_bases, bob_bases, alice_bits)\n",
    "\n",
    "# Step 5: The number of qubits broadcasted to verify key integrity\n",
    "sample_size = 10   # the lower the sample, the easier for Eve to go undetected\n",
    "bit_selection = randint(n, size=sample_size)\n",
    "print(f'Verification bits selected from key: {bit_selection}')\n",
    "\n",
    "bob_sample = sample_bits(bob_key, bit_selection)\n",
    "alice_sample = sample_bits(alice_key, bit_selection)"
   ]
  },
  {
   "cell_type": "code",
   "execution_count": 29,
   "id": "639d5bb2-7b4a-48f5-8308-7d12ed620cf2",
   "metadata": {
    "tags": []
   },
   "outputs": [
    {
     "name": "stdout",
     "output_type": "stream",
     "text": [
      "Eve's interference was detected.\n"
     ]
    }
   ],
   "source": [
    "# Checking whether the sample matches from both Alice and Bob's side\n",
    "\n",
    "if bob_sample != alice_sample:\n",
    "    print(\"Eve's interference was detected.\")\n",
    "else:\n",
    "    print(\"Eve went undetected!\")"
   ]
  },
  {
   "cell_type": "code",
   "execution_count": 30,
   "id": "9fdd7426-4a20-4a67-9126-b33358c5bfa7",
   "metadata": {
    "tags": []
   },
   "outputs": [
    {
     "name": "stdout",
     "output_type": "stream",
     "text": [
      "Decimal Key: 524287\n"
     ]
    }
   ],
   "source": [
    "bob_key = remove_garbage(alice_bases, bob_bases, bob_results)\n",
    "\n",
    "bob_key_str = ''.join(str(bit) for bit in bob_key)\n",
    "# Filter out non-numeric characters from the string\n",
    "bob_key_str = ''.join(filter(str.isdigit, bob_key_str))\n",
    "\n",
    "bob_key_dec = int(bob_key_str, 2)\n",
    "print(f'Decimal Key: {bob_key_dec}')\n"
   ]
  },
  {
   "cell_type": "code",
   "execution_count": 31,
   "id": "b656acec-26b9-42df-9b90-104fb0e0587e",
   "metadata": {
    "tags": []
   },
   "outputs": [
    {
     "data": {
      "text/plain": [
       "b'\\xd7r\\xbf\\x17F\\xd2\\x19N&W\\xa1\\xcd\\x16\\x81\\xc7\\xde\\x97$\\xd6\\x84^<\\xc6\\x97\"t\\x80\\xc8\\xc2\\x82\\xed\\x99'"
      ]
     },
     "execution_count": 31,
     "metadata": {},
     "output_type": "execute_result"
    }
   ],
   "source": [
    "from cryptography.hazmat.primitives.kdf.pbkdf2 import PBKDF2HMAC\n",
    "from cryptography.hazmat.primitives import hashes\n",
    "from cryptography.hazmat.backends import default_backend\n",
    "\n",
    "original_key = bob_key_dec.to_bytes(8, byteorder='big')\n",
    "\n",
    "desired_key_length = 32  # Length of resized key in bytes (128 bits)\n",
    "\n",
    "kdf = PBKDF2HMAC(\n",
    "    algorithm=hashes.SHA256(),\n",
    "    length=desired_key_length,\n",
    "    salt=b'',\n",
    "    iterations=100000,\n",
    "    backend=default_backend()\n",
    ")\n",
    "\n",
    "resized_key = kdf.derive(original_key)\n",
    "resized_key"
   ]
  },
  {
   "cell_type": "code",
   "execution_count": 32,
   "id": "1c724c1c-023a-4d44-9553-b8ea114f1b9b",
   "metadata": {
    "tags": []
   },
   "outputs": [
    {
     "name": "stdout",
     "output_type": "stream",
     "text": [
      "Ciphertext: b'\\xd2X\\xeb\\xe5\\xed\\x9c\\xb4\\xecDu\\xb2\\xfaH\\x92\\xbc^'\n",
      "Decrypted: hello world!\n"
     ]
    }
   ],
   "source": [
    "from cryptography.hazmat.primitives.ciphers import Cipher, algorithms, modes\n",
    "from cryptography.hazmat.primitives import padding\n",
    "\n",
    "import os\n",
    "\n",
    "\n",
    "# Initialising the AES cipher object with expanded key and mode\n",
    "cipher = Cipher(algorithms.AES(resized_key), modes.ECB(), backend=default_backend())\n",
    "\n",
    "encryptor = cipher.encryptor()\n",
    "decryptor = cipher.decryptor()\n",
    "\n",
    "# Encrypt plaintext\n",
    "plaintext = b'hello world!'\n",
    "\n",
    "# padding added to fit the plaintext to the fixed block lengths required by AES\n",
    "padder = padding.PKCS7(128).padder()\n",
    "padded_plaintext = padder.update(plaintext) + padder.finalize()\n",
    "\n",
    "ciphertext = encryptor.update(padded_plaintext) + encryptor.finalize()\n",
    "print(\"Ciphertext:\", ciphertext)\n",
    "\n",
    "# Decrypt ciphertext\n",
    "unpadder = padding.PKCS7(128).unpadder()\n",
    "unpadded_ciphertext = decryptor.update(ciphertext) + decryptor.finalize()\n",
    "decrypted = unpadder.update(unpadded_ciphertext) + unpadder.finalize()\n",
    "print(\"Decrypted:\", decrypted.decode('utf-8'))"
   ]
  }
 ],
 "metadata": {
  "kernelspec": {
   "display_name": "Qiskit v1.0.2 (ipykernel)",
   "language": "python",
   "name": "python3"
  },
  "language_info": {
   "codemirror_mode": {
    "name": "ipython",
    "version": 3
   },
   "file_extension": ".py",
   "mimetype": "text/x-python",
   "name": "python",
   "nbconvert_exporter": "python",
   "pygments_lexer": "ipython3",
   "version": "3.11.5"
  },
  "widgets": {
   "application/vnd.jupyter.widget-state+json": {
    "state": {},
    "version_major": 2,
    "version_minor": 0
   }
  }
 },
 "nbformat": 4,
 "nbformat_minor": 5
}
